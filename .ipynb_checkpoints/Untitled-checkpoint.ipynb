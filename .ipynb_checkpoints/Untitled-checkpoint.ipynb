{
 "cells": [
  {
   "cell_type": "code",
   "execution_count": 3,
   "id": "fd7604fb-96fd-45fa-ac28-9e897b875376",
   "metadata": {},
   "outputs": [
    {
     "name": "stdout",
     "output_type": "stream",
     "text": [
      "Train classes: ['O', 'R']\n",
      "Test classes: ['O', 'R']\n"
     ]
    }
   ],
   "source": [
    "import os\n",
    "\n",
    "base_path = \"DATASET\"  # Adjust if needed\n",
    "train_path = os.path.join(base_path, \"TRAIN\")\n",
    "test_path = os.path.join(base_path, \"TEST\")\n",
    "\n",
    "# Check subfolders (should print ['O', 'R'])\n",
    "print(\"Train classes:\", os.listdir(train_path))\n",
    "print(\"Test classes:\", os.listdir(test_path))"
   ]
  },
  {
   "cell_type": "code",
   "execution_count": 4,
   "id": "9a392c36-8348-4504-a7f0-265ff6025632",
   "metadata": {},
   "outputs": [],
   "source": [
    "from tensorflow.keras.preprocessing.image import ImageDataGenerator\n",
    "\n",
    "# Data generators with augmentation for training\n",
    "train_datagen = ImageDataGenerator(\n",
    "    rescale=1./255,\n",
    "    rotation_range=20,\n",
    "    shear_range=0.2,\n",
    "    zoom_range=0.2,\n",
    "    horizontal_flip=True\n",
    ")\n",
    "\n",
    "test_datagen = ImageDataGenerator(rescale=1./255)  "
   ]
  },
  {
   "cell_type": "code",
   "execution_count": 5,
   "id": "4f36e625-8c04-4844-b940-e8812ece9c46",
   "metadata": {},
   "outputs": [
    {
     "name": "stdout",
     "output_type": "stream",
     "text": [
      "Found 22564 images belonging to 2 classes.\n"
     ]
    }
   ],
   "source": [
    "# Flow data from directories\n",
    "train_generator = train_datagen.flow_from_directory(\n",
    "    train_path,\n",
    "    target_size=(224, 224),\n",
    "    batch_size=32,\n",
    "    class_mode='binary',  # Binary labels (0: Organic, 1: Recyclable)\n",
    "    classes=['O', 'R']   # Map subfolder names to labels\n",
    ")\n"
   ]
  },
  {
   "cell_type": "code",
   "execution_count": 6,
   "id": "7844cc05-2e8c-4fae-b16c-a7582a696e58",
   "metadata": {},
   "outputs": [
    {
     "name": "stdout",
     "output_type": "stream",
     "text": [
      "Found 2513 images belonging to 2 classes.\n"
     ]
    }
   ],
   "source": [
    "test_generator = test_datagen.flow_from_directory(\n",
    "    test_path,\n",
    "    target_size=(224, 224),\n",
    "    batch_size=32,\n",
    "    class_mode='binary',\n",
    "    classes=['O', 'R']\n",
    ")"
   ]
  },
  {
   "cell_type": "code",
   "execution_count": 7,
   "id": "e5a60a49-9b66-48de-a4ae-ae151c2021dd",
   "metadata": {},
   "outputs": [],
   "source": [
    "import tensorflow as tf\n",
    "from tensorflow.keras import layers, models\n",
    "from tensorflow.keras.preprocessing.image import ImageDataGenerator"
   ]
  },
  {
   "cell_type": "code",
   "execution_count": 8,
   "id": "098f1ae2-f20f-46d1-b0aa-fc2ab2dbf8ac",
   "metadata": {},
   "outputs": [],
   "source": [
    "# Define paths (O stands for organic & R for recyclable)\n",
    "base_path = \"DATASET\"  \n",
    "train_dir = os.path.join(base_path, \"TRAIN\")  # Contains 'O' and 'R' subfolders\n",
    "test_dir = os.path.join(base_path, \"TEST\")    # Contains 'O' and 'R' subfolders"
   ]
  },
  {
   "cell_type": "code",
   "execution_count": 9,
   "id": "81548091-fe5f-48ac-a7e1-e7558fcd6d54",
   "metadata": {},
   "outputs": [],
   "source": [
    "# Data augmentation for training\n",
    "train_datagen = ImageDataGenerator(\n",
    "    rescale=1./255,\n",
    "    rotation_range=20,\n",
    "    width_shift_range=0.2,\n",
    "    height_shift_range=0.2,\n",
    "    shear_range=0.2,\n",
    "    zoom_range=0.2,\n",
    "    horizontal_flip=True,\n",
    "    fill_mode='nearest'\n",
    ")\n"
   ]
  },
  {
   "cell_type": "code",
   "execution_count": 10,
   "id": "cd2d3228-10d9-45a3-bf3d-a8564dbe3ad7",
   "metadata": {},
   "outputs": [],
   "source": [
    "# Validation data (no augmentation)\n",
    "test_datagen = ImageDataGenerator(rescale=1./255)"
   ]
  },
  {
   "cell_type": "code",
   "execution_count": 11,
   "id": "2febe123-019a-4a7a-ba1d-75122bde8eec",
   "metadata": {},
   "outputs": [
    {
     "name": "stdout",
     "output_type": "stream",
     "text": [
      "Found 22564 images belonging to 2 classes.\n"
     ]
    }
   ],
   "source": [
    "train_generator = train_datagen.flow_from_directory(\n",
    "    train_dir,\n",
    "    target_size=(224, 224),\n",
    "    batch_size=32,\n",
    "    class_mode='binary',  # Binary classification (Organic vs Recyclable)\n",
    "    classes=['O', 'R'],  # Map subfolder names to labels (O:0, R:1)\n",
    "    shuffle=True\n",
    ")\n"
   ]
  },
  {
   "cell_type": "code",
   "execution_count": 12,
   "id": "40fe9a44-4c0e-462e-af7a-3015c0207050",
   "metadata": {},
   "outputs": [
    {
     "name": "stdout",
     "output_type": "stream",
     "text": [
      "Found 2513 images belonging to 2 classes.\n"
     ]
    }
   ],
   "source": [
    "test_generator = test_datagen.flow_from_directory(\n",
    "    test_dir,\n",
    "    target_size=(224, 224),\n",
    "    batch_size=32,\n",
    "    class_mode='binary',\n",
    "    classes=['O', 'R'],\n",
    "    shuffle=False\n",
    ")\n"
   ]
  },
  {
   "cell_type": "code",
   "execution_count": 14,
   "id": "f9c79ad2-d2a9-4a6f-8f99-82eea8067f3a",
   "metadata": {},
   "outputs": [
    {
     "name": "stdout",
     "output_type": "stream",
     "text": [
      "Downloading data from https://storage.googleapis.com/tensorflow/keras-applications/mobilenet_v2/mobilenet_v2_weights_tf_dim_ordering_tf_kernels_1.0_224_no_top.h5\n",
      "\u001b[1m9406464/9406464\u001b[0m \u001b[32m━━━━━━━━━━━━━━━━━━━━\u001b[0m\u001b[37m\u001b[0m \u001b[1m3s\u001b[0m 0us/step\n"
     ]
    }
   ],
   "source": [
    "# Build model (MobileNetV2 for binary classification)\n",
    "base_model = tf.keras.applications.MobileNetV2(\n",
    "    input_shape=(224, 224, 3),\n",
    "    include_top=False,\n",
    "    weights='imagenet'\n",
    ")\n",
    "base_model.trainable = False  # Freeze base layers\n",
    "\n",
    "model = models.Sequential([\n",
    "    base_model,\n",
    "    layers.GlobalAveragePooling2D(),\n",
    "    layers.Dense(128, activation='relu'),\n",
    "    layers.Dropout(0.5),  # Regularization\n",
    "    layers.Dense(1, activation='sigmoid')  # Single output neuron for binary classification\n",
    "])"
   ]
  },
  {
   "cell_type": "code",
   "execution_count": 15,
   "id": "1de7b966-2ee9-4f79-918f-98fbd3a958fe",
   "metadata": {},
   "outputs": [],
   "source": [
    "# Compile with binary crossentropy\n",
    "model.compile(\n",
    "    optimizer=tf.keras.optimizers.Adam(learning_rate=0.0001),\n",
    "    loss='binary_crossentropy',\n",
    "    metrics=['accuracy']\n",
    ")\n"
   ]
  },
  {
   "cell_type": "code",
   "execution_count": 16,
   "id": "5a425b74-d54c-4ffd-9ef2-38b2043fc65e",
   "metadata": {},
   "outputs": [
    {
     "name": "stderr",
     "output_type": "stream",
     "text": [
      "C:\\Users\\VICTUS 16\\AppData\\Roaming\\Python\\Python312\\site-packages\\keras\\src\\trainers\\data_adapters\\py_dataset_adapter.py:121: UserWarning: Your `PyDataset` class should call `super().__init__(**kwargs)` in its constructor. `**kwargs` can include `workers`, `use_multiprocessing`, `max_queue_size`. Do not pass these arguments to `fit()`, as they will be ignored.\n",
      "  self._warn_if_super_not_called()\n"
     ]
    },
    {
     "name": "stdout",
     "output_type": "stream",
     "text": [
      "Epoch 1/15\n",
      "\u001b[1m706/706\u001b[0m \u001b[32m━━━━━━━━━━━━━━━━━━━━\u001b[0m\u001b[37m\u001b[0m \u001b[1m0s\u001b[0m 535ms/step - accuracy: 0.8111 - loss: 0.4099"
     ]
    },
    {
     "name": "stderr",
     "output_type": "stream",
     "text": [
      "WARNING:absl:You are saving your model as an HDF5 file via `model.save()` or `keras.saving.save_model(model)`. This file format is considered legacy. We recommend using instead the native Keras format, e.g. `model.save('my_model.keras')` or `keras.saving.save_model(model, 'my_model.keras')`. \n"
     ]
    },
    {
     "name": "stdout",
     "output_type": "stream",
     "text": [
      "\u001b[1m706/706\u001b[0m \u001b[32m━━━━━━━━━━━━━━━━━━━━\u001b[0m\u001b[37m\u001b[0m \u001b[1m404s\u001b[0m 566ms/step - accuracy: 0.8112 - loss: 0.4097 - val_accuracy: 0.8750 - val_loss: 0.2790\n",
      "Epoch 2/15\n",
      "\u001b[1m706/706\u001b[0m \u001b[32m━━━━━━━━━━━━━━━━━━━━\u001b[0m\u001b[37m\u001b[0m \u001b[1m0s\u001b[0m 502ms/step - accuracy: 0.9187 - loss: 0.2131"
     ]
    },
    {
     "name": "stderr",
     "output_type": "stream",
     "text": [
      "WARNING:absl:You are saving your model as an HDF5 file via `model.save()` or `keras.saving.save_model(model)`. This file format is considered legacy. We recommend using instead the native Keras format, e.g. `model.save('my_model.keras')` or `keras.saving.save_model(model, 'my_model.keras')`. \n"
     ]
    },
    {
     "name": "stdout",
     "output_type": "stream",
     "text": [
      "\u001b[1m706/706\u001b[0m \u001b[32m━━━━━━━━━━━━━━━━━━━━\u001b[0m\u001b[37m\u001b[0m \u001b[1m375s\u001b[0m 531ms/step - accuracy: 0.9186 - loss: 0.2131 - val_accuracy: 0.8782 - val_loss: 0.2695\n",
      "Epoch 3/15\n",
      "\u001b[1m706/706\u001b[0m \u001b[32m━━━━━━━━━━━━━━━━━━━━\u001b[0m\u001b[37m\u001b[0m \u001b[1m383s\u001b[0m 543ms/step - accuracy: 0.9284 - loss: 0.1949 - val_accuracy: 0.8679 - val_loss: 0.2834\n",
      "Epoch 4/15\n",
      "\u001b[1m706/706\u001b[0m \u001b[32m━━━━━━━━━━━━━━━━━━━━\u001b[0m\u001b[37m\u001b[0m \u001b[1m381s\u001b[0m 540ms/step - accuracy: 0.9291 - loss: 0.1840 - val_accuracy: 0.8567 - val_loss: 0.2954\n",
      "Epoch 5/15\n",
      "\u001b[1m706/706\u001b[0m \u001b[32m━━━━━━━━━━━━━━━━━━━━\u001b[0m\u001b[37m\u001b[0m \u001b[1m0s\u001b[0m 505ms/step - accuracy: 0.9384 - loss: 0.1679"
     ]
    },
    {
     "name": "stderr",
     "output_type": "stream",
     "text": [
      "WARNING:absl:You are saving your model as an HDF5 file via `model.save()` or `keras.saving.save_model(model)`. This file format is considered legacy. We recommend using instead the native Keras format, e.g. `model.save('my_model.keras')` or `keras.saving.save_model(model, 'my_model.keras')`. \n"
     ]
    },
    {
     "name": "stdout",
     "output_type": "stream",
     "text": [
      "\u001b[1m706/706\u001b[0m \u001b[32m━━━━━━━━━━━━━━━━━━━━\u001b[0m\u001b[37m\u001b[0m \u001b[1m377s\u001b[0m 534ms/step - accuracy: 0.9384 - loss: 0.1679 - val_accuracy: 0.8802 - val_loss: 0.2650\n",
      "Epoch 6/15\n",
      "\u001b[1m706/706\u001b[0m \u001b[32m━━━━━━━━━━━━━━━━━━━━\u001b[0m\u001b[37m\u001b[0m \u001b[1m373s\u001b[0m 528ms/step - accuracy: 0.9345 - loss: 0.1717 - val_accuracy: 0.8687 - val_loss: 0.2865\n",
      "Epoch 7/15\n",
      "\u001b[1m706/706\u001b[0m \u001b[32m━━━━━━━━━━━━━━━━━━━━\u001b[0m\u001b[37m\u001b[0m \u001b[1m374s\u001b[0m 529ms/step - accuracy: 0.9411 - loss: 0.1583 - val_accuracy: 0.8559 - val_loss: 0.2998\n",
      "Epoch 8/15\n",
      "\u001b[1m706/706\u001b[0m \u001b[32m━━━━━━━━━━━━━━━━━━━━\u001b[0m\u001b[37m\u001b[0m \u001b[1m373s\u001b[0m 528ms/step - accuracy: 0.9362 - loss: 0.1645 - val_accuracy: 0.8619 - val_loss: 0.2992\n"
     ]
    }
   ],
   "source": [
    "# Train the model\n",
    "history = model.fit(\n",
    "    train_generator,\n",
    "    epochs=15,\n",
    "    validation_data=test_generator,\n",
    "    callbacks=[\n",
    "        tf.keras.callbacks.EarlyStopping(patience=3, monitor='val_loss'),\n",
    "        tf.keras.callbacks.ModelCheckpoint('best_model.h5', save_best_only=True)\n",
    "    ]\n",
    ")"
   ]
  },
  {
   "cell_type": "code",
   "execution_count": 17,
   "id": "46ba4f16-8c21-45dc-8afe-0100a950fa31",
   "metadata": {},
   "outputs": [
    {
     "name": "stdout",
     "output_type": "stream",
     "text": [
      "INFO:tensorflow:Assets written to: C:\\Users\\VICTUS~1\\AppData\\Local\\Temp\\tmp69lwvrmk\\assets\n"
     ]
    },
    {
     "name": "stderr",
     "output_type": "stream",
     "text": [
      "INFO:tensorflow:Assets written to: C:\\Users\\VICTUS~1\\AppData\\Local\\Temp\\tmp69lwvrmk\\assets\n"
     ]
    },
    {
     "name": "stdout",
     "output_type": "stream",
     "text": [
      "Saved artifact at 'C:\\Users\\VICTUS~1\\AppData\\Local\\Temp\\tmp69lwvrmk'. The following endpoints are available:\n",
      "\n",
      "* Endpoint 'serve'\n",
      "  args_0 (POSITIONAL_ONLY): TensorSpec(shape=(None, 224, 224, 3), dtype=tf.float32, name='keras_tensor_308')\n",
      "Output Type:\n",
      "  TensorSpec(shape=(None, 1), dtype=tf.float32, name=None)\n",
      "Captures:\n",
      "  1764717276880: TensorSpec(shape=(), dtype=tf.resource, name=None)\n",
      "  1764807094928: TensorSpec(shape=(), dtype=tf.resource, name=None)\n",
      "  1764807094736: TensorSpec(shape=(), dtype=tf.resource, name=None)\n",
      "  1764807094160: TensorSpec(shape=(), dtype=tf.resource, name=None)\n",
      "  1764807095504: TensorSpec(shape=(), dtype=tf.resource, name=None)\n",
      "  1764807092048: TensorSpec(shape=(), dtype=tf.resource, name=None)\n",
      "  1764807095120: TensorSpec(shape=(), dtype=tf.resource, name=None)\n",
      "  1764807095312: TensorSpec(shape=(), dtype=tf.resource, name=None)\n",
      "  1764807093776: TensorSpec(shape=(), dtype=tf.resource, name=None)\n",
      "  1764807096464: TensorSpec(shape=(), dtype=tf.resource, name=None)\n",
      "  1764807095888: TensorSpec(shape=(), dtype=tf.resource, name=None)\n",
      "  1764807096080: TensorSpec(shape=(), dtype=tf.resource, name=None)\n",
      "  1764807096272: TensorSpec(shape=(), dtype=tf.resource, name=None)\n",
      "  1764807092816: TensorSpec(shape=(), dtype=tf.resource, name=None)\n",
      "  1764807097424: TensorSpec(shape=(), dtype=tf.resource, name=None)\n",
      "  1764807096848: TensorSpec(shape=(), dtype=tf.resource, name=None)\n",
      "  1764807097040: TensorSpec(shape=(), dtype=tf.resource, name=None)\n",
      "  1764807096656: TensorSpec(shape=(), dtype=tf.resource, name=None)\n",
      "  1764807098192: TensorSpec(shape=(), dtype=tf.resource, name=None)\n",
      "  1764807097616: TensorSpec(shape=(), dtype=tf.resource, name=None)\n",
      "  1764807095696: TensorSpec(shape=(), dtype=tf.resource, name=None)\n",
      "  1764807097808: TensorSpec(shape=(), dtype=tf.resource, name=None)\n",
      "  1764807098000: TensorSpec(shape=(), dtype=tf.resource, name=None)\n",
      "  1764807097232: TensorSpec(shape=(), dtype=tf.resource, name=None)\n",
      "  1764807094544: TensorSpec(shape=(), dtype=tf.resource, name=None)\n",
      "  1764808278288: TensorSpec(shape=(), dtype=tf.resource, name=None)\n",
      "  1764808279440: TensorSpec(shape=(), dtype=tf.resource, name=None)\n",
      "  1764808279248: TensorSpec(shape=(), dtype=tf.resource, name=None)\n",
      "  1764808278864: TensorSpec(shape=(), dtype=tf.resource, name=None)\n",
      "  1764808280016: TensorSpec(shape=(), dtype=tf.resource, name=None)\n",
      "  1764808278480: TensorSpec(shape=(), dtype=tf.resource, name=None)\n",
      "  1764808279632: TensorSpec(shape=(), dtype=tf.resource, name=None)\n",
      "  1764808279824: TensorSpec(shape=(), dtype=tf.resource, name=None)\n",
      "  1764808278096: TensorSpec(shape=(), dtype=tf.resource, name=None)\n",
      "  1764808280976: TensorSpec(shape=(), dtype=tf.resource, name=None)\n",
      "  1764808280400: TensorSpec(shape=(), dtype=tf.resource, name=None)\n",
      "  1764808280592: TensorSpec(shape=(), dtype=tf.resource, name=None)\n",
      "  1764808280784: TensorSpec(shape=(), dtype=tf.resource, name=None)\n",
      "  1764808278672: TensorSpec(shape=(), dtype=tf.resource, name=None)\n",
      "  1764808281936: TensorSpec(shape=(), dtype=tf.resource, name=None)\n",
      "  1764808281360: TensorSpec(shape=(), dtype=tf.resource, name=None)\n",
      "  1764808281552: TensorSpec(shape=(), dtype=tf.resource, name=None)\n",
      "  1764808281744: TensorSpec(shape=(), dtype=tf.resource, name=None)\n",
      "  1764808279056: TensorSpec(shape=(), dtype=tf.resource, name=None)\n",
      "  1764808282896: TensorSpec(shape=(), dtype=tf.resource, name=None)\n",
      "  1764808282320: TensorSpec(shape=(), dtype=tf.resource, name=None)\n",
      "  1764808282512: TensorSpec(shape=(), dtype=tf.resource, name=None)\n",
      "  1764808282704: TensorSpec(shape=(), dtype=tf.resource, name=None)\n",
      "  1764808280208: TensorSpec(shape=(), dtype=tf.resource, name=None)\n",
      "  1764808283856: TensorSpec(shape=(), dtype=tf.resource, name=None)\n",
      "  1764808283280: TensorSpec(shape=(), dtype=tf.resource, name=None)\n",
      "  1764808283472: TensorSpec(shape=(), dtype=tf.resource, name=None)\n",
      "  1764808283664: TensorSpec(shape=(), dtype=tf.resource, name=None)\n",
      "  1764808281168: TensorSpec(shape=(), dtype=tf.resource, name=None)\n",
      "  1764808284816: TensorSpec(shape=(), dtype=tf.resource, name=None)\n",
      "  1764808284240: TensorSpec(shape=(), dtype=tf.resource, name=None)\n",
      "  1764808284432: TensorSpec(shape=(), dtype=tf.resource, name=None)\n",
      "  1764808284624: TensorSpec(shape=(), dtype=tf.resource, name=None)\n",
      "  1764808282128: TensorSpec(shape=(), dtype=tf.resource, name=None)\n",
      "  1764808285776: TensorSpec(shape=(), dtype=tf.resource, name=None)\n",
      "  1764808285200: TensorSpec(shape=(), dtype=tf.resource, name=None)\n",
      "  1764808285392: TensorSpec(shape=(), dtype=tf.resource, name=None)\n",
      "  1764808285584: TensorSpec(shape=(), dtype=tf.resource, name=None)\n",
      "  1764808283088: TensorSpec(shape=(), dtype=tf.resource, name=None)\n",
      "  1764808286736: TensorSpec(shape=(), dtype=tf.resource, name=None)\n",
      "  1764808286160: TensorSpec(shape=(), dtype=tf.resource, name=None)\n",
      "  1764808286352: TensorSpec(shape=(), dtype=tf.resource, name=None)\n",
      "  1764808286544: TensorSpec(shape=(), dtype=tf.resource, name=None)\n",
      "  1764808284048: TensorSpec(shape=(), dtype=tf.resource, name=None)\n",
      "  1764808287696: TensorSpec(shape=(), dtype=tf.resource, name=None)\n",
      "  1764808287120: TensorSpec(shape=(), dtype=tf.resource, name=None)\n",
      "  1764808287312: TensorSpec(shape=(), dtype=tf.resource, name=None)\n",
      "  1764808287504: TensorSpec(shape=(), dtype=tf.resource, name=None)\n",
      "  1764808285008: TensorSpec(shape=(), dtype=tf.resource, name=None)\n",
      "  1764808288656: TensorSpec(shape=(), dtype=tf.resource, name=None)\n",
      "  1764808288080: TensorSpec(shape=(), dtype=tf.resource, name=None)\n",
      "  1764808288272: TensorSpec(shape=(), dtype=tf.resource, name=None)\n",
      "  1764808288464: TensorSpec(shape=(), dtype=tf.resource, name=None)\n",
      "  1764808285968: TensorSpec(shape=(), dtype=tf.resource, name=None)\n",
      "  1764808289616: TensorSpec(shape=(), dtype=tf.resource, name=None)\n",
      "  1764808289040: TensorSpec(shape=(), dtype=tf.resource, name=None)\n",
      "  1764808289232: TensorSpec(shape=(), dtype=tf.resource, name=None)\n",
      "  1764808289424: TensorSpec(shape=(), dtype=tf.resource, name=None)\n",
      "  1764808286928: TensorSpec(shape=(), dtype=tf.resource, name=None)\n",
      "  1764808290576: TensorSpec(shape=(), dtype=tf.resource, name=None)\n",
      "  1764808290000: TensorSpec(shape=(), dtype=tf.resource, name=None)\n",
      "  1764808290192: TensorSpec(shape=(), dtype=tf.resource, name=None)\n",
      "  1764808290384: TensorSpec(shape=(), dtype=tf.resource, name=None)\n",
      "  1764808287888: TensorSpec(shape=(), dtype=tf.resource, name=None)\n",
      "  1764808291536: TensorSpec(shape=(), dtype=tf.resource, name=None)\n",
      "  1764808290960: TensorSpec(shape=(), dtype=tf.resource, name=None)\n",
      "  1764808291152: TensorSpec(shape=(), dtype=tf.resource, name=None)\n",
      "  1764808291344: TensorSpec(shape=(), dtype=tf.resource, name=None)\n",
      "  1764808288848: TensorSpec(shape=(), dtype=tf.resource, name=None)\n",
      "  1764808292496: TensorSpec(shape=(), dtype=tf.resource, name=None)\n",
      "  1764808291920: TensorSpec(shape=(), dtype=tf.resource, name=None)\n",
      "  1764808292112: TensorSpec(shape=(), dtype=tf.resource, name=None)\n",
      "  1764808292304: TensorSpec(shape=(), dtype=tf.resource, name=None)\n",
      "  1764808289808: TensorSpec(shape=(), dtype=tf.resource, name=None)\n",
      "  1764808293456: TensorSpec(shape=(), dtype=tf.resource, name=None)\n",
      "  1764808292880: TensorSpec(shape=(), dtype=tf.resource, name=None)\n",
      "  1764808293072: TensorSpec(shape=(), dtype=tf.resource, name=None)\n",
      "  1764808292688: TensorSpec(shape=(), dtype=tf.resource, name=None)\n",
      "  1764808294224: TensorSpec(shape=(), dtype=tf.resource, name=None)\n",
      "  1764808293648: TensorSpec(shape=(), dtype=tf.resource, name=None)\n",
      "  1764808291728: TensorSpec(shape=(), dtype=tf.resource, name=None)\n",
      "  1764808293840: TensorSpec(shape=(), dtype=tf.resource, name=None)\n",
      "  1764808294032: TensorSpec(shape=(), dtype=tf.resource, name=None)\n",
      "  1764808293264: TensorSpec(shape=(), dtype=tf.resource, name=None)\n",
      "  1764808290768: TensorSpec(shape=(), dtype=tf.resource, name=None)\n",
      "  1764808917264: TensorSpec(shape=(), dtype=tf.resource, name=None)\n",
      "  1764808917648: TensorSpec(shape=(), dtype=tf.resource, name=None)\n",
      "  1764808917840: TensorSpec(shape=(), dtype=tf.resource, name=None)\n",
      "  1764808917456: TensorSpec(shape=(), dtype=tf.resource, name=None)\n",
      "  1764808918992: TensorSpec(shape=(), dtype=tf.resource, name=None)\n",
      "  1764808918416: TensorSpec(shape=(), dtype=tf.resource, name=None)\n",
      "  1764808918608: TensorSpec(shape=(), dtype=tf.resource, name=None)\n",
      "  1764808918800: TensorSpec(shape=(), dtype=tf.resource, name=None)\n",
      "  1764808918032: TensorSpec(shape=(), dtype=tf.resource, name=None)\n",
      "  1764808919952: TensorSpec(shape=(), dtype=tf.resource, name=None)\n",
      "  1764808919376: TensorSpec(shape=(), dtype=tf.resource, name=None)\n",
      "  1764808919568: TensorSpec(shape=(), dtype=tf.resource, name=None)\n",
      "  1764808919760: TensorSpec(shape=(), dtype=tf.resource, name=None)\n",
      "  1764808917072: TensorSpec(shape=(), dtype=tf.resource, name=None)\n",
      "  1764808920912: TensorSpec(shape=(), dtype=tf.resource, name=None)\n",
      "  1764808920336: TensorSpec(shape=(), dtype=tf.resource, name=None)\n",
      "  1764808920528: TensorSpec(shape=(), dtype=tf.resource, name=None)\n",
      "  1764808920720: TensorSpec(shape=(), dtype=tf.resource, name=None)\n",
      "  1764808918224: TensorSpec(shape=(), dtype=tf.resource, name=None)\n",
      "  1764808921872: TensorSpec(shape=(), dtype=tf.resource, name=None)\n",
      "  1764808921296: TensorSpec(shape=(), dtype=tf.resource, name=None)\n",
      "  1764808921488: TensorSpec(shape=(), dtype=tf.resource, name=None)\n",
      "  1764808921680: TensorSpec(shape=(), dtype=tf.resource, name=None)\n",
      "  1764808919184: TensorSpec(shape=(), dtype=tf.resource, name=None)\n",
      "  1764808922832: TensorSpec(shape=(), dtype=tf.resource, name=None)\n",
      "  1764808922256: TensorSpec(shape=(), dtype=tf.resource, name=None)\n",
      "  1764808922448: TensorSpec(shape=(), dtype=tf.resource, name=None)\n",
      "  1764808922640: TensorSpec(shape=(), dtype=tf.resource, name=None)\n",
      "  1764808920144: TensorSpec(shape=(), dtype=tf.resource, name=None)\n",
      "  1764808923792: TensorSpec(shape=(), dtype=tf.resource, name=None)\n",
      "  1764808923216: TensorSpec(shape=(), dtype=tf.resource, name=None)\n",
      "  1764808923408: TensorSpec(shape=(), dtype=tf.resource, name=None)\n",
      "  1764808923600: TensorSpec(shape=(), dtype=tf.resource, name=None)\n",
      "  1764808921104: TensorSpec(shape=(), dtype=tf.resource, name=None)\n",
      "  1764808924752: TensorSpec(shape=(), dtype=tf.resource, name=None)\n",
      "  1764808924176: TensorSpec(shape=(), dtype=tf.resource, name=None)\n",
      "  1764808924368: TensorSpec(shape=(), dtype=tf.resource, name=None)\n",
      "  1764808924560: TensorSpec(shape=(), dtype=tf.resource, name=None)\n",
      "  1764808922064: TensorSpec(shape=(), dtype=tf.resource, name=None)\n",
      "  1764808925712: TensorSpec(shape=(), dtype=tf.resource, name=None)\n",
      "  1764808925136: TensorSpec(shape=(), dtype=tf.resource, name=None)\n",
      "  1764808925328: TensorSpec(shape=(), dtype=tf.resource, name=None)\n",
      "  1764808925520: TensorSpec(shape=(), dtype=tf.resource, name=None)\n",
      "  1764808923024: TensorSpec(shape=(), dtype=tf.resource, name=None)\n",
      "  1764808926672: TensorSpec(shape=(), dtype=tf.resource, name=None)\n",
      "  1764808926096: TensorSpec(shape=(), dtype=tf.resource, name=None)\n",
      "  1764808926288: TensorSpec(shape=(), dtype=tf.resource, name=None)\n",
      "  1764808926480: TensorSpec(shape=(), dtype=tf.resource, name=None)\n",
      "  1764808923984: TensorSpec(shape=(), dtype=tf.resource, name=None)\n",
      "  1764808927632: TensorSpec(shape=(), dtype=tf.resource, name=None)\n",
      "  1764808927056: TensorSpec(shape=(), dtype=tf.resource, name=None)\n",
      "  1764808927248: TensorSpec(shape=(), dtype=tf.resource, name=None)\n",
      "  1764808927440: TensorSpec(shape=(), dtype=tf.resource, name=None)\n",
      "  1764808924944: TensorSpec(shape=(), dtype=tf.resource, name=None)\n",
      "  1764808928592: TensorSpec(shape=(), dtype=tf.resource, name=None)\n",
      "  1764808928016: TensorSpec(shape=(), dtype=tf.resource, name=None)\n",
      "  1764808928208: TensorSpec(shape=(), dtype=tf.resource, name=None)\n",
      "  1764808928400: TensorSpec(shape=(), dtype=tf.resource, name=None)\n",
      "  1764808925904: TensorSpec(shape=(), dtype=tf.resource, name=None)\n",
      "  1764808929552: TensorSpec(shape=(), dtype=tf.resource, name=None)\n",
      "  1764808928976: TensorSpec(shape=(), dtype=tf.resource, name=None)\n",
      "  1764808929168: TensorSpec(shape=(), dtype=tf.resource, name=None)\n",
      "  1764808929360: TensorSpec(shape=(), dtype=tf.resource, name=None)\n",
      "  1764808926864: TensorSpec(shape=(), dtype=tf.resource, name=None)\n",
      "  1764808930512: TensorSpec(shape=(), dtype=tf.resource, name=None)\n",
      "  1764808929936: TensorSpec(shape=(), dtype=tf.resource, name=None)\n",
      "  1764808930128: TensorSpec(shape=(), dtype=tf.resource, name=None)\n",
      "  1764808930320: TensorSpec(shape=(), dtype=tf.resource, name=None)\n",
      "  1764808927824: TensorSpec(shape=(), dtype=tf.resource, name=None)\n",
      "  1764808931472: TensorSpec(shape=(), dtype=tf.resource, name=None)\n",
      "  1764808930896: TensorSpec(shape=(), dtype=tf.resource, name=None)\n",
      "  1764808931088: TensorSpec(shape=(), dtype=tf.resource, name=None)\n",
      "  1764808931280: TensorSpec(shape=(), dtype=tf.resource, name=None)\n",
      "  1764808928784: TensorSpec(shape=(), dtype=tf.resource, name=None)\n",
      "  1764808932432: TensorSpec(shape=(), dtype=tf.resource, name=None)\n",
      "  1764808931856: TensorSpec(shape=(), dtype=tf.resource, name=None)\n",
      "  1764808932048: TensorSpec(shape=(), dtype=tf.resource, name=None)\n",
      "  1764808931664: TensorSpec(shape=(), dtype=tf.resource, name=None)\n",
      "  1764808933200: TensorSpec(shape=(), dtype=tf.resource, name=None)\n",
      "  1764808932624: TensorSpec(shape=(), dtype=tf.resource, name=None)\n",
      "  1764808930704: TensorSpec(shape=(), dtype=tf.resource, name=None)\n",
      "  1764808932816: TensorSpec(shape=(), dtype=tf.resource, name=None)\n",
      "  1764808933008: TensorSpec(shape=(), dtype=tf.resource, name=None)\n",
      "  1764808932240: TensorSpec(shape=(), dtype=tf.resource, name=None)\n",
      "  1764808929744: TensorSpec(shape=(), dtype=tf.resource, name=None)\n",
      "  1764809818384: TensorSpec(shape=(), dtype=tf.resource, name=None)\n",
      "  1764809819536: TensorSpec(shape=(), dtype=tf.resource, name=None)\n",
      "  1764809819344: TensorSpec(shape=(), dtype=tf.resource, name=None)\n",
      "  1764809818960: TensorSpec(shape=(), dtype=tf.resource, name=None)\n",
      "  1764809820112: TensorSpec(shape=(), dtype=tf.resource, name=None)\n",
      "  1764809818576: TensorSpec(shape=(), dtype=tf.resource, name=None)\n",
      "  1764809819728: TensorSpec(shape=(), dtype=tf.resource, name=None)\n",
      "  1764809819920: TensorSpec(shape=(), dtype=tf.resource, name=None)\n",
      "  1764809818192: TensorSpec(shape=(), dtype=tf.resource, name=None)\n",
      "  1764809821072: TensorSpec(shape=(), dtype=tf.resource, name=None)\n",
      "  1764809820496: TensorSpec(shape=(), dtype=tf.resource, name=None)\n",
      "  1764809820688: TensorSpec(shape=(), dtype=tf.resource, name=None)\n",
      "  1764809820880: TensorSpec(shape=(), dtype=tf.resource, name=None)\n",
      "  1764809818768: TensorSpec(shape=(), dtype=tf.resource, name=None)\n",
      "  1764809822032: TensorSpec(shape=(), dtype=tf.resource, name=None)\n",
      "  1764809821456: TensorSpec(shape=(), dtype=tf.resource, name=None)\n",
      "  1764809821648: TensorSpec(shape=(), dtype=tf.resource, name=None)\n",
      "  1764809821840: TensorSpec(shape=(), dtype=tf.resource, name=None)\n",
      "  1764809819152: TensorSpec(shape=(), dtype=tf.resource, name=None)\n",
      "  1764809822992: TensorSpec(shape=(), dtype=tf.resource, name=None)\n",
      "  1764809822416: TensorSpec(shape=(), dtype=tf.resource, name=None)\n",
      "  1764809822608: TensorSpec(shape=(), dtype=tf.resource, name=None)\n",
      "  1764809822800: TensorSpec(shape=(), dtype=tf.resource, name=None)\n",
      "  1764809820304: TensorSpec(shape=(), dtype=tf.resource, name=None)\n",
      "  1764809823952: TensorSpec(shape=(), dtype=tf.resource, name=None)\n",
      "  1764809823376: TensorSpec(shape=(), dtype=tf.resource, name=None)\n",
      "  1764809823568: TensorSpec(shape=(), dtype=tf.resource, name=None)\n",
      "  1764809823760: TensorSpec(shape=(), dtype=tf.resource, name=None)\n",
      "  1764809821264: TensorSpec(shape=(), dtype=tf.resource, name=None)\n",
      "  1764809824912: TensorSpec(shape=(), dtype=tf.resource, name=None)\n",
      "  1764809824336: TensorSpec(shape=(), dtype=tf.resource, name=None)\n",
      "  1764809824528: TensorSpec(shape=(), dtype=tf.resource, name=None)\n",
      "  1764809824720: TensorSpec(shape=(), dtype=tf.resource, name=None)\n",
      "  1764809822224: TensorSpec(shape=(), dtype=tf.resource, name=None)\n",
      "  1764809825872: TensorSpec(shape=(), dtype=tf.resource, name=None)\n",
      "  1764809825296: TensorSpec(shape=(), dtype=tf.resource, name=None)\n",
      "  1764809825488: TensorSpec(shape=(), dtype=tf.resource, name=None)\n",
      "  1764809825680: TensorSpec(shape=(), dtype=tf.resource, name=None)\n",
      "  1764809823184: TensorSpec(shape=(), dtype=tf.resource, name=None)\n",
      "  1764809826832: TensorSpec(shape=(), dtype=tf.resource, name=None)\n",
      "  1764809826256: TensorSpec(shape=(), dtype=tf.resource, name=None)\n",
      "  1764809826448: TensorSpec(shape=(), dtype=tf.resource, name=None)\n",
      "  1764809826640: TensorSpec(shape=(), dtype=tf.resource, name=None)\n",
      "  1764809824144: TensorSpec(shape=(), dtype=tf.resource, name=None)\n",
      "  1764809827792: TensorSpec(shape=(), dtype=tf.resource, name=None)\n",
      "  1764809827216: TensorSpec(shape=(), dtype=tf.resource, name=None)\n",
      "  1764809827408: TensorSpec(shape=(), dtype=tf.resource, name=None)\n",
      "  1764809827600: TensorSpec(shape=(), dtype=tf.resource, name=None)\n",
      "  1764809825104: TensorSpec(shape=(), dtype=tf.resource, name=None)\n",
      "  1764809828752: TensorSpec(shape=(), dtype=tf.resource, name=None)\n",
      "  1764809828176: TensorSpec(shape=(), dtype=tf.resource, name=None)\n",
      "  1764809828368: TensorSpec(shape=(), dtype=tf.resource, name=None)\n",
      "  1764809828560: TensorSpec(shape=(), dtype=tf.resource, name=None)\n",
      "  1764809826064: TensorSpec(shape=(), dtype=tf.resource, name=None)\n",
      "  1764809829712: TensorSpec(shape=(), dtype=tf.resource, name=None)\n",
      "  1764809829136: TensorSpec(shape=(), dtype=tf.resource, name=None)\n",
      "  1764809829328: TensorSpec(shape=(), dtype=tf.resource, name=None)\n",
      "  1764809829520: TensorSpec(shape=(), dtype=tf.resource, name=None)\n",
      "  1764809827024: TensorSpec(shape=(), dtype=tf.resource, name=None)\n",
      "  1764809830672: TensorSpec(shape=(), dtype=tf.resource, name=None)\n",
      "  1764809830096: TensorSpec(shape=(), dtype=tf.resource, name=None)\n",
      "  1764809830288: TensorSpec(shape=(), dtype=tf.resource, name=None)\n",
      "  1764809830480: TensorSpec(shape=(), dtype=tf.resource, name=None)\n",
      "  1764809827984: TensorSpec(shape=(), dtype=tf.resource, name=None)\n",
      "  1764809831632: TensorSpec(shape=(), dtype=tf.resource, name=None)\n",
      "  1764809829904: TensorSpec(shape=(), dtype=tf.resource, name=None)\n",
      "  1764809832208: TensorSpec(shape=(), dtype=tf.resource, name=None)\n",
      "  1764809833168: TensorSpec(shape=(), dtype=tf.resource, name=None)\n",
      "  1764809832400: TensorSpec(shape=(), dtype=tf.resource, name=None)\n"
     ]
    }
   ],
   "source": [
    "#We convert to TFLite for Edge deployment:\n",
    "converter = tf.lite.TFLiteConverter.from_keras_model(model)\n",
    "tflite_model = converter.convert()\n",
    "with open('waste_classifier.tflite', 'wb') as f:\n",
    "    f.write(tflite_model)"
   ]
  },
  {
   "cell_type": "code",
   "execution_count": null,
   "id": "cc258f76-b467-4086-a1db-ce5b4f1b1c2a",
   "metadata": {},
   "outputs": [],
   "source": []
  }
 ],
 "metadata": {
  "kernelspec": {
   "display_name": "Python 3 (ipykernel)",
   "language": "python",
   "name": "python3"
  },
  "language_info": {
   "codemirror_mode": {
    "name": "ipython",
    "version": 3
   },
   "file_extension": ".py",
   "mimetype": "text/x-python",
   "name": "python",
   "nbconvert_exporter": "python",
   "pygments_lexer": "ipython3",
   "version": "3.12.7"
  }
 },
 "nbformat": 4,
 "nbformat_minor": 5
}
